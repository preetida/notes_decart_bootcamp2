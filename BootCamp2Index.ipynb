{
 "cells": [
  {
   "cell_type": "markdown",
   "metadata": {},
   "source": [
    "\n",
    "* [Python Crash Course](./python_crash_course.ipynb)\n",
    "* [Numbers in Python](./PythonBasicNumericTypes.ipynb)\n",
    "* [Characterizing Numeric Data](./numeric_data_characterization.ipynb)\n",
    "* [Visualizing Numeric Data](./visualizing_numeric_data.ipynb)\n",
    "* [Data in their Context](./original_bp_data.ipynb)\n",
    "* [Illustrating Sets with Football](./Football.ipynb)\n",
    "* [Illustrating Sets with texts](./ChangesInTravelNarratives.ipynb)\n",
    "* [Texts and strings](./text_and_strings.ipynb)\n",
    "* [Working with Medical Texts](./working_with_textual_medical_data.ipynb)\n",
    "* [Pandas and Gene Expression Data](Gene_Expression_Analysis_with_Pandas.ipynb)\n",
    "* [Data Wrangling with Pandas](Pandas-DataWrangling.ipynb)\n",
    "* [Pandas and HDF5 (1)](PandasHDF5.ipynb)\n",
    "* [Visualization GIS](Visualization-Maps.ipynb)\n",
    "* [Pandas and HDF5 (2)](pandas_hdf5.ipynb)"
   ]
  },
  {
   "cell_type": "code",
   "execution_count": null,
   "metadata": {},
   "outputs": [],
   "source": [
    "!pwd"
   ]
  },
  {
   "cell_type": "code",
   "execution_count": null,
   "metadata": {},
   "outputs": [],
   "source": []
  }
 ],
 "metadata": {
  "kernelspec": {
   "display_name": "Python 3",
   "language": "python",
   "name": "python3"
  },
  "language_info": {
   "codemirror_mode": {
    "name": "ipython",
    "version": 3
   },
   "file_extension": ".py",
   "mimetype": "text/x-python",
   "name": "python",
   "nbconvert_exporter": "python",
   "pygments_lexer": "ipython3",
   "version": "3.5.5"
  }
 },
 "nbformat": 4,
 "nbformat_minor": 2
}
